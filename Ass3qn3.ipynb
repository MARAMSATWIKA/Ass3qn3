{
 "cells": [
  {
   "cell_type": "code",
   "execution_count": 3,
   "id": "d0d45f20",
   "metadata": {},
   "outputs": [
    {
     "name": "stdout",
     "output_type": "stream",
     "text": [
      "Enter the string: The quick Brow Fox\n",
      "No. of Upper case characters: 3\n",
      "No. of Lower case characters: 12\n"
     ]
    }
   ],
   "source": [
    "string=input(\"Enter the string: \")# 65-90 A to Z,97-122 a to z\n",
    "upp_count=0\n",
    "low_count=0\n",
    "other_char=0\n",
    "for i in range(len(string)):\n",
    "    if 65<=ord(string[i])<91:\n",
    "        upp_count=upp_count+1 \n",
    "    elif 97<=ord(string[i])<123:\n",
    "        low_count=low_count+1\n",
    "    else :\n",
    "        other_char=other_char+1\n",
    "print(\"No. of Upper case characters:\",upp_count)\n",
    "print(\"No. of Lower case characters:\",low_count)#if you need other characters count,print it by using print(other_char) "
   ]
  },
  {
   "cell_type": "code",
   "execution_count": null,
   "id": "90e68d32",
   "metadata": {},
   "outputs": [],
   "source": []
  }
 ],
 "metadata": {
  "kernelspec": {
   "display_name": "Python 3 (ipykernel)",
   "language": "python",
   "name": "python3"
  },
  "language_info": {
   "codemirror_mode": {
    "name": "ipython",
    "version": 3
   },
   "file_extension": ".py",
   "mimetype": "text/x-python",
   "name": "python",
   "nbconvert_exporter": "python",
   "pygments_lexer": "ipython3",
   "version": "3.9.7"
  }
 },
 "nbformat": 4,
 "nbformat_minor": 5
}
